{
 "cells": [
  {
   "cell_type": "code",
   "execution_count": 2,
   "metadata": {},
   "outputs": [],
   "source": [
    "y = \"abcaba\""
   ]
  },
  {
   "cell_type": "code",
   "execution_count": 17,
   "metadata": {},
   "outputs": [
    {
     "data": {
      "text/plain": [
       "'aaabbcaaba'"
      ]
     },
     "execution_count": 17,
     "metadata": {},
     "output_type": "execute_result"
    }
   ],
   "source": [
    "f = lambda x: \"\".join([sym * x[index:].count(sym) for index, sym in enumerate(x)])\n",
    "f(y)"
   ]
  },
  {
   "cell_type": "code",
   "execution_count": 18,
   "metadata": {},
   "outputs": [
    {
     "name": "stdout",
     "output_type": "stream",
     "text": [
      "(0, 'a')\n",
      "(1, 'b')\n",
      "(2, 'c')\n",
      "(3, 'a')\n",
      "(4, 'b')\n",
      "(5, 'a')\n"
     ]
    }
   ],
   "source": [
    "for i in enumerate(y):\n",
    "    print(i)"
   ]
  },
  {
   "cell_type": "markdown",
   "metadata": {},
   "source": [
    "***"
   ]
  },
  {
   "cell_type": "code",
   "execution_count": 19,
   "metadata": {},
   "outputs": [],
   "source": [
    "def fact(x):\n",
    "    return x * fact(x - 1) if x else 1"
   ]
  },
  {
   "cell_type": "code",
   "execution_count": 21,
   "metadata": {},
   "outputs": [],
   "source": [
    "def fact(x):\n",
    "    if x:\n",
    "        return x * fact(x - 1)\n",
    "    else:\n",
    "        return 1"
   ]
  },
  {
   "cell_type": "code",
   "execution_count": 22,
   "metadata": {},
   "outputs": [
    {
     "data": {
      "text/plain": [
       "120"
      ]
     },
     "execution_count": 22,
     "metadata": {},
     "output_type": "execute_result"
    }
   ],
   "source": [
    "fact(5)"
   ]
  },
  {
   "cell_type": "markdown",
   "metadata": {},
   "source": [
    "***"
   ]
  },
  {
   "cell_type": "code",
   "execution_count": 24,
   "metadata": {},
   "outputs": [
    {
     "data": {
      "text/plain": [
       "8"
      ]
     },
     "execution_count": 24,
     "metadata": {},
     "output_type": "execute_result"
    }
   ],
   "source": [
    "pow(2, 3)"
   ]
  },
  {
   "cell_type": "code",
   "execution_count": 29,
   "metadata": {},
   "outputs": [],
   "source": [
    "def my_pow(x, y):\n",
    "    if y:\n",
    "        return x * my_pow(x, y - 1)\n",
    "    else:\n",
    "        return 1"
   ]
  },
  {
   "cell_type": "code",
   "execution_count": 31,
   "metadata": {},
   "outputs": [
    {
     "data": {
      "text/plain": [
       "8"
      ]
     },
     "execution_count": 31,
     "metadata": {},
     "output_type": "execute_result"
    }
   ],
   "source": [
    "my_pow(2, 3)"
   ]
  },
  {
   "cell_type": "code",
   "execution_count": 38,
   "metadata": {},
   "outputs": [
    {
     "name": "stdout",
     "output_type": "stream",
     "text": [
      "\n",
      "h\n",
      "he\n",
      "hel\n",
      "hell\n",
      "hello\n",
      "hello \n",
      "hello w\n",
      "hello wo\n",
      "hello wor\n",
      "hello worl\n",
      "hello world\n"
     ]
    }
   ],
   "source": [
    "def elka(row):\n",
    "    if row:\n",
    "        elka(row[:-1])\n",
    "    print(row)\n",
    "        \n",
    "elka('hello world')"
   ]
  },
  {
   "cell_type": "code",
   "execution_count": 39,
   "metadata": {},
   "outputs": [
    {
     "name": "stdout",
     "output_type": "stream",
     "text": [
      "\n",
      "h\n",
      "he\n",
      "hel\n",
      "hell\n",
      "hello\n",
      "hello \n",
      "hello w\n",
      "hello wo\n",
      "hello wor\n",
      "hello worl\n",
      "hello world\n"
     ]
    }
   ],
   "source": [
    "def elka(row):\n",
    "    if row:\n",
    "        return elka(row[:-1]) + \"\\n\" + row\n",
    "    else:\n",
    "        return \"\"\n",
    "        \n",
    "print(elka('hello world'))"
   ]
  },
  {
   "cell_type": "code",
   "execution_count": 41,
   "metadata": {},
   "outputs": [
    {
     "name": "stdout",
     "output_type": "stream",
     "text": [
      "\n",
      "h\n",
      "he\n",
      "hel\n",
      "hell\n",
      "hello\n",
      "hello \n",
      "hello w\n",
      "hello wo\n",
      "hello wor\n",
      "hello worl\n",
      "hello world\n"
     ]
    }
   ],
   "source": [
    "def elka(row):\n",
    "    return elka(row[:-1])+ \"\\n\" + row if row else \"\"\n",
    "        \n",
    "print(elka('hello world'))"
   ]
  },
  {
   "cell_type": "markdown",
   "metadata": {},
   "source": [
    "***"
   ]
  },
  {
   "cell_type": "code",
   "execution_count": 42,
   "metadata": {},
   "outputs": [],
   "source": [
    "from threading import Thread\n",
    "from time import sleep"
   ]
  },
  {
   "cell_type": "code",
   "execution_count": 43,
   "metadata": {},
   "outputs": [],
   "source": [
    "def hello(name, pause):\n",
    "    while True:\n",
    "        print(name)\n",
    "        sleep(pause)"
   ]
  },
  {
   "cell_type": "code",
   "execution_count": 45,
   "metadata": {},
   "outputs": [],
   "source": [
    "t1 = Thread(target=hello, args=('Egor', 3))\n",
    "t2 = Thread(target=hello, args=('Pavel', 5))"
   ]
  },
  {
   "cell_type": "code",
   "execution_count": 46,
   "metadata": {},
   "outputs": [
    {
     "name": "stdout",
     "output_type": "stream",
     "text": [
      "Egor\n",
      "Pavel\n",
      "Egor\n",
      "Pavel\n",
      "Egor\n",
      "Egor\n",
      "Pavel\n",
      "Egor\n",
      "Egor\n",
      "Pavel\n",
      "Egor\n",
      "Pavel\n",
      "Egor\n",
      "Egor\n",
      "Pavel\n"
     ]
    }
   ],
   "source": [
    "t1.start()\n",
    "t2.start()"
   ]
  },
  {
   "cell_type": "markdown",
   "metadata": {},
   "source": [
    "***"
   ]
  },
  {
   "cell_type": "code",
   "execution_count": 1,
   "metadata": {},
   "outputs": [],
   "source": [
    "from socket import socket\n",
    "from select import select\n",
    "#server\n",
    "server = socket()\n",
    "server.bind(('192.168.19.82', 5000))\n",
    "server.listen()"
   ]
  },
  {
   "cell_type": "code",
   "execution_count": 2,
   "metadata": {},
   "outputs": [],
   "source": [
    "def read_msg(server_sock, client_sock, to_listen):\n",
    "    while True:\n",
    "        msg = client_sock.recv(32)\n",
    "        for sock in to_listen:\n",
    "            if not any([sock is server_sock,\n",
    "                        sock is client_sock]):\n",
    "                sock.send(msg)\n",
    "        yield\n",
    "\n",
    "def accept_connect(to_listen, server_sock):\n",
    "    while True:\n",
    "        client, addr = server_sock.accept()\n",
    "        print(f'accept connect by addr {addr}')\n",
    "        to_listen[client] = read_msg(server_sock, client, to_listen)\n",
    "        yield"
   ]
  },
  {
   "cell_type": "code",
   "execution_count": 3,
   "metadata": {},
   "outputs": [],
   "source": [
    "to_listen = {}\n",
    "to_listen[server] = accept_connect(to_listen, server)"
   ]
  },
  {
   "cell_type": "code",
   "execution_count": null,
   "metadata": {},
   "outputs": [
    {
     "name": "stdout",
     "output_type": "stream",
     "text": [
      "accept connect by addr ('192.168.19.43', 40152)\n",
      "accept connect by addr ('192.168.19.23', 2130)\n",
      "accept connect by addr ('192.168.19.39', 1924)\n",
      "accept connect by addr ('192.168.19.82', 50737)\n",
      "accept connect by addr ('192.168.19.85', 2067)\n",
      "accept connect by addr ('192.168.19.21', 2054)\n",
      "10054 Удаленный хост принудительно разорвал существующее подключение None 10054 None\n",
      "<socket.socket fd=1048, family=AddressFamily.AF_INET, type=SocketKind.SOCK_STREAM, proto=0, laddr=('192.168.19.82', 5000), raddr=('192.168.19.43', 40152)>\n",
      "10054 Удаленный хост принудительно разорвал существующее подключение None 10054 None\n",
      "<socket.socket fd=1052, family=AddressFamily.AF_INET, type=SocketKind.SOCK_STREAM, proto=0, laddr=('192.168.19.82', 5000), raddr=('192.168.19.85', 2067)>\n",
      "accept connect by addr ('192.168.19.43', 40158)\n",
      "accept connect by addr ('192.168.19.85', 2132)\n",
      "accept connect by addr ('192.168.19.72', 1945)\n",
      "accept connect by addr ('192.168.19.46', 54700)\n",
      "10053 Программа на вашем хост-компьютере разорвала установленное подключение None 10053 None\n",
      "<socket.socket fd=420, family=AddressFamily.AF_INET, type=SocketKind.SOCK_STREAM, proto=0, laddr=('192.168.19.82', 5000), raddr=('192.168.19.43', 40158)>\n",
      "10054 Удаленный хост принудительно разорвал существующее подключение None 10054 None\n",
      "<socket.socket fd=1088, family=AddressFamily.AF_INET, type=SocketKind.SOCK_STREAM, proto=0, laddr=('192.168.19.82', 5000), raddr=('192.168.19.46', 54700)>\n",
      "10054 Удаленный хост принудительно разорвал существующее подключение None 10054 None\n",
      "<socket.socket fd=1012, family=AddressFamily.AF_INET, type=SocketKind.SOCK_STREAM, proto=0, laddr=('192.168.19.82', 5000), raddr=('192.168.19.82', 50737)>\n",
      "10054 Удаленный хост принудительно разорвал существующее подключение None 10054 None\n",
      "<socket.socket fd=1080, family=AddressFamily.AF_INET, type=SocketKind.SOCK_STREAM, proto=0, laddr=('192.168.19.82', 5000), raddr=('192.168.19.72', 1945)>\n",
      "accept connect by addr ('192.168.19.72', 2004)\n",
      "accept connect by addr ('192.168.19.82', 50805)\n",
      "accept connect by addr ('192.168.19.43', 40174)\n",
      "10054 Удаленный хост принудительно разорвал существующее подключение None 10054 None\n",
      "<socket.socket fd=1092, family=AddressFamily.AF_INET, type=SocketKind.SOCK_STREAM, proto=0, laddr=('192.168.19.82', 5000), raddr=('192.168.19.43', 40174)>\n",
      "10054 Удаленный хост принудительно разорвал существующее подключение None 10054 None\n",
      "<socket.socket fd=996, family=AddressFamily.AF_INET, type=SocketKind.SOCK_STREAM, proto=0, laddr=('192.168.19.82', 5000), raddr=('192.168.19.23', 2130)>\n",
      "accept connect by addr ('192.168.19.46', 54940)\n",
      "accept connect by addr ('192.168.19.23', 2183)\n",
      "10054 Удаленный хост принудительно разорвал существующее подключение None 10054 None\n",
      "<socket.socket fd=1052, family=AddressFamily.AF_INET, type=SocketKind.SOCK_STREAM, proto=0, laddr=('192.168.19.82', 5000), raddr=('192.168.19.72', 2004)>\n",
      "accept connect by addr ('192.168.19.72', 2066)\n",
      "accept connect by addr ('192.168.19.43', 40176)\n",
      "10053 Программа на вашем хост-компьютере разорвала установленное подключение None 10053 None\n",
      "<socket.socket fd=996, family=AddressFamily.AF_INET, type=SocketKind.SOCK_STREAM, proto=0, laddr=('192.168.19.82', 5000), raddr=('192.168.19.46', 54940)>\n",
      "accept connect by addr ('192.168.19.46', 55086)\n",
      "10054 Удаленный хост принудительно разорвал существующее подключение None 10054 None\n",
      "<socket.socket fd=1096, family=AddressFamily.AF_INET, type=SocketKind.SOCK_STREAM, proto=0, laddr=('192.168.19.82', 5000), raddr=('192.168.19.46', 55086)>\n",
      "accept connect by addr ('192.168.19.46', 55202)\n",
      "10053 Программа на вашем хост-компьютере разорвала установленное подключение None 10053 None\n",
      "<socket.socket fd=1052, family=AddressFamily.AF_INET, type=SocketKind.SOCK_STREAM, proto=0, laddr=('192.168.19.82', 5000), raddr=('192.168.19.43', 40176)>\n",
      "10054 Удаленный хост принудительно разорвал существующее подключение None 10054 None\n",
      "<socket.socket fd=908, family=AddressFamily.AF_INET, type=SocketKind.SOCK_STREAM, proto=0, laddr=('192.168.19.82', 5000), raddr=('192.168.19.46', 55202)>\n",
      "10054 Удаленный хост принудительно разорвал существующее подключение None 10054 None\n",
      "<socket.socket fd=1012, family=AddressFamily.AF_INET, type=SocketKind.SOCK_STREAM, proto=0, laddr=('192.168.19.82', 5000), raddr=('192.168.19.82', 50805)>\n"
     ]
    }
   ],
   "source": [
    "while True:\n",
    "    reade2read, ready2wirte, _ = select(to_listen, to_listen, [])\n",
    "    for sock in reade2read:\n",
    "        try:\n",
    "            next(to_listen[sock])\n",
    "        except ConnectionResetError as CRE:\n",
    "            print(*CRE.args)\n",
    "            del to_listen[sock]\n",
    "            print(sock)\n",
    "            \n",
    "        except ConnectionAbortedError as CAE:\n",
    "            print(*CAE.args)\n",
    "            del to_listen[sock]\n",
    "            print(sock)"
   ]
  },
  {
   "cell_type": "code",
   "execution_count": null,
   "metadata": {},
   "outputs": [],
   "source": [
    "#client\n",
    "from socket import socket\n",
    "from select import select\n",
    "from threading import Thread\n",
    "\n",
    "client = socket()\n",
    "client.connect(('192.168.19.82', 5000))\n",
    "\n",
    "def my_input(client_sock):\n",
    "    while True:\n",
    "        msg = input('enter the message: ')\n",
    "        msg = msg.encode('1251')\n",
    "        client_sock.send(msg)\n",
    "        \n",
    "Thread(target=my_input, args=(client, )).start()\n",
    "\n",
    "while True:\n",
    "    new_msg = client.recv(32)\n",
    "    new_msg = new_msg.decode('1251')\n",
    "    print(new_msg)"
   ]
  },
  {
   "cell_type": "code",
   "execution_count": null,
   "metadata": {},
   "outputs": [],
   "source": []
  }
 ],
 "metadata": {
  "kernelspec": {
   "display_name": "Python 3",
   "language": "python",
   "name": "python3"
  },
  "language_info": {
   "codemirror_mode": {
    "name": "ipython",
    "version": 3
   },
   "file_extension": ".py",
   "mimetype": "text/x-python",
   "name": "python",
   "nbconvert_exporter": "python",
   "pygments_lexer": "ipython3",
   "version": "3.7.2"
  }
 },
 "nbformat": 4,
 "nbformat_minor": 2
}
